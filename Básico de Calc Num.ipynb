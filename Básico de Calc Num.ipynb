{
 "cells": [
  {
   "cell_type": "code",
   "execution_count": 1,
   "metadata": {},
   "outputs": [],
   "source": [
    "import numpy as np\n",
    "from matplotlib import pyplot as pl"
   ]
  },
  {
   "cell_type": "markdown",
   "metadata": {},
   "source": [
    "# Zeros de Funções"
   ]
  },
  {
   "cell_type": "markdown",
   "metadata": {},
   "source": [
    "$y(x)=0$"
   ]
  },
  {
   "cell_type": "code",
   "execution_count": 2,
   "metadata": {},
   "outputs": [],
   "source": [
    "class zerosf:\n",
    "    \n",
    "    #Função para o método da Bissecção\n",
    "    def Mbiss(x1,x2,y,e):\n",
    "        n=0\n",
    "        #checa se os sinais de y(x1) e y(x2) são iguais\n",
    "        #(se sim, provavelmente não há uma raiz em [x1,x2])\n",
    "        if np.sign(y(x1))==np.sign(y(x2)):\n",
    "            return print('Não há raiz nesse intervalo!')\n",
    "        else:\n",
    "            print('n :','x1 -','x2 -','xm')\n",
    "            #enquanto a diferença de x1 e x2 for maior que a toleância\n",
    "            #continuamos o método da bisseção\n",
    "            while np.abs(x1-x2)>=e:\n",
    "                #calcula x médio entre x1 e x2\n",
    "                xm=(x1+x2)/2\n",
    "                print(n,':',x1,'-',x2,'-',xm)\n",
    "                #se y(x1) e y(x2) tiverem o mesmo sinal, a raiz deve se \n",
    "                #encontrar entre xm e x2\n",
    "                if np.sign(y(x1))==np.sign(y(xm)):\n",
    "                    #redefinimos x1\n",
    "                    x1=xm\n",
    "                else:\n",
    "                    #senão redefinimos x2\n",
    "                    x2=xm\n",
    "                n=n+1\n",
    "        return x1\n",
    "    \n",
    "    \n",
    "    #Método de Newton-Raphson\n",
    "    def MNR(x0,y,dy,e):\n",
    "        n=0\n",
    "        x=x0\n",
    "        print('n :','x -','y(x) -','e')\n",
    "        #enquanto y(x) não explodir\n",
    "        while np.abs(y(x)*e)<1:\n",
    "            print(n,':',x,'-',y(x),'-',y(x)/dy(x)/x)\n",
    "            #quando o erro relativo for menor que a tolerância \n",
    "            #nós encontramos uma raiz\n",
    "            if np.abs((y(x)/dy(x))/x)<e:\n",
    "                return x\n",
    "            #senão atualizamos x e continuamos\n",
    "            else:\n",
    "                x=x-y(x)/dy(x)\n",
    "                n=n+1\n",
    "        #se y(x) \"explodir\", é porque o método não achou uma raiz\n",
    "        return print('Não converge!')\n",
    "    \n",
    "    \n",
    "    #Método das secantes\n",
    "    def Msec(x0,x1,y,e):\n",
    "        n=0\n",
    "        #admitindo os valores iniciais\n",
    "        a=x0\n",
    "        b=x1\n",
    "        print('n :','x -','y(x)')\n",
    "        #enquanto y(x) não explodir\n",
    "        while np.abs(y(a)*e)<1:\n",
    "            print(n,':',a,'-',y(a))\n",
    "            #parar se y(a) está dentro da tolerância\n",
    "            if np.abs(y(a))<e:\n",
    "                return a\n",
    "            else:\n",
    "                #atualizar a\n",
    "                a=a-(a-b)*y(a)/(y(a)-y(b))\n",
    "                n=n+1\n",
    "            print(n,':',b,'-',y(b))\n",
    "            #parar se y(b) está dentro da tolerância\n",
    "            if np.abs(y(b))<e:\n",
    "                return b\n",
    "            else:\n",
    "                #atualizar b\n",
    "                b=b-(b-a)*y(b)/(y(b)-y(a))\n",
    "                n=n+1\n",
    "        #se y(x) explodir, não achamos uma raiz\n",
    "        return print('Não converge!')\n",
    "    \n",
    "    "
   ]
  },
  {
   "cell_type": "code",
   "execution_count": 15,
   "metadata": {},
   "outputs": [
    {
     "name": "stdout",
     "output_type": "stream",
     "text": [
      "n : x - y(x)\n",
      "0 : 1.25 - 0.3239846193555862\n",
      "1 : 1.5 - 0.24749498660405445\n",
      "2 : 2.3089167698321122 - -0.41472376879970285\n",
      "3 : 1.8023213152447324 - 0.07215694225346347\n",
      "4 : 1.8774000319255766 - 0.014664128520587294\n",
      "5 : 1.896549624354362 - -0.0008648891443258089\n"
     ]
    },
    {
     "data": {
      "text/plain": [
       "1.896549624354362"
      ]
     },
     "execution_count": 15,
     "metadata": {},
     "output_type": "execute_result"
    }
   ],
   "source": [
    "def Y(x):\n",
    "    return np.sin(x)-x/2\n",
    "def dY(x):\n",
    "    return np.cos(x)-1/2\n",
    "\n",
    "x0=1.25\n",
    "x1=1.5\n",
    "#tolerância do erro\n",
    "e=10**(-3)\n",
    "\n",
    "#zerosf.Mbiss(x0,x1,Y,e)\n",
    "#zerosf.MNR(x0,Y,dY,e)\n",
    "zerosf.Msec(x0,x1,Y,e)"
   ]
  },
  {
   "cell_type": "markdown",
   "metadata": {},
   "source": [
    "# Sistemas de Eq.s Lineares"
   ]
  },
  {
   "cell_type": "markdown",
   "metadata": {},
   "source": [
    "$A \\vec{x} = \\vec{b}$"
   ]
  },
  {
   "cell_type": "code",
   "execution_count": 27,
   "metadata": {},
   "outputs": [],
   "source": [
    "class lineq:\n",
    "    \n",
    "    #critérios para a aplicação dos métodos\n",
    "\n",
    "    #critério das linhas/diagonal dominante (falhando, ainda pode convergir)\n",
    "    def linha(A):\n",
    "        for i in range (len(A)):\n",
    "            a=0\n",
    "            for j in range (len(A[0])):\n",
    "                if i!=j:\n",
    "                    a=a+np.abs(A[i][j])\n",
    "            if np.abs(A[i][i])<=a:\n",
    "                return 0 #diverge\n",
    "        return 1 #converge\n",
    "\n",
    "    #critério de sassenfeld\n",
    "    def sassy(A):\n",
    "        b=np.zeros(len(A))\n",
    "        for i in range (len(A)):\n",
    "            for j in range (len(A)):\n",
    "                if j<=i-1:\n",
    "                    b[i]=b[i]+b[j]*np.abs(A[i][j])/np.abs(A[i][i])\n",
    "                if j>=i+1:\n",
    "                    b[i]=b[i]+np.abs(A[i][j])/np.abs(A[i][i])\n",
    "            if b[i]>=1:\n",
    "                return 0 #diverge\n",
    "        return 1 #converge\n",
    "    \n",
    "    \n",
    "    #Função que troca as linhas i e p da matriz A\n",
    "    def troca(A,i,p):\n",
    "        B=np.zeros((len(A),len(A[0])))\n",
    "        for j in range (len(A)):\n",
    "            B[j]=A[j]\n",
    "            if j==i:\n",
    "                B[i]=A[p]\n",
    "            if j==p:\n",
    "                B[p]=A[i]      \n",
    "        return B\n",
    "\n",
    "    #Método da Eliminação de Gauss\n",
    "    def Egauss(A):\n",
    "        print('Sendo a matriz aumentada:\\n',A)\n",
    "        #n é número de linhas em A\n",
    "        n=len(A)\n",
    "        B=A\n",
    "        for i in range (0,n-1,1):\n",
    "            a=0\n",
    "            #Procuramos nessa coluna o maior coef. para usar como pivô\n",
    "            for p in range (i,n,1):\n",
    "                if np.abs(B[p][i])>a:\n",
    "                    #ao achar um pivô, guardamos seu valor e a sua linha\n",
    "                    a=B[p][i]\n",
    "                    P=p\n",
    "            #se não há nenhum pivô, não há solução.\n",
    "            if a==0:\n",
    "                return print('Não há pivô!')\n",
    "\n",
    "            #trocamos a ordem das linhas.\n",
    "            if P!=i:\n",
    "                B=lineq.troca(B,P,i)\n",
    "                print('\\nTrocamos as linhas:',i+1,'e',P+1,'\\n',B)\n",
    "            \n",
    "            #aqui fazemos a eliminação\n",
    "            for j in range (i+1,n,1):\n",
    "                if B[j][i]!=0:\n",
    "                    m=B[j][i]/B[i][i]\n",
    "                    for k in range (n+1):\n",
    "                        B[j][k]=B[j][k]-m*B[i][k]\n",
    "                    print('\\nEliminamos o elemento',j+1,i+1,':\\n',B)\n",
    "    \n",
    "        #checa se há solução\n",
    "        if B[n-1][n-1]==0:\n",
    "            return print('Não há solução única!')\n",
    "    \n",
    "        #construimos o vetor solução\n",
    "        x=np.zeros(n)\n",
    "        x[n-1]=B[n-1][n]/B[n-1][n-1]\n",
    "        for i in range (n-1,-1,-1):\n",
    "            x[i]=B[i][n]/B[i][i]\n",
    "            for j in range (i+1,n,1):\n",
    "                x[i]=x[i]-B[i][j]*x[j]/B[i][i]\n",
    "        return print('\\nA solução é x =',x)\n",
    "    \n",
    "    \n",
    "    #Método Iterativo de Jacobi\n",
    "    def Jacobi(A,b,x0,e,N):\n",
    "        k=0\n",
    "        n=len(b)\n",
    "        print(k,'ª iteração:\\nx=',x0)\n",
    "        while k<N:\n",
    "            #vetor solução\n",
    "            x=np.zeros(n)\n",
    "            y=np.zeros(n)\n",
    "            #começamos a próxima iteração\n",
    "            k=k+1\n",
    "            for i in range (n):\n",
    "                x[i]=b[i]/A[i][i]\n",
    "                for j in range (n):\n",
    "                    if j!=i:\n",
    "                        x[i]=x[i]-A[i][j]*x0[j]/A[i][i]\n",
    "                    #definimos o vetor 'erro'\n",
    "                    y[j]=np.abs(x[j]-x0[j])\n",
    "        \n",
    "            #checa se alcançamos a precisão desejada\n",
    "            if np.max(y)<e:\n",
    "                return print('\\n',k,'ª iteração:\\nx=',x,'\\nerro=',np.max(y))\n",
    "        \n",
    "            print('\\n',k,'ª iteração:\\nx=',x,'\\nerro=',np.max(y))\n",
    "            #atualizamos o valor do chute começamos de novo\n",
    "            x0=x\n",
    "        return\n",
    "    \n",
    "    #Método Gauss-Seidel\n",
    "    def GSeidel(A,b,x0,e,N):\n",
    "        k=0\n",
    "        n=len(b)\n",
    "        print(k,'ª iteração:\\nx=',x0)\n",
    "        while k<N:\n",
    "            #vetor solução\n",
    "            x=np.zeros(n)\n",
    "            y=np.zeros(n)\n",
    "            #começamos a próxima iteração\n",
    "            k=k+1\n",
    "            for i in range (n):\n",
    "                x[i]=b[i]/A[i][i]\n",
    "                for j in range (n):\n",
    "                    #aqui usamos os valores de x calculados nessa iteração\n",
    "                    if j<=i-1:\n",
    "                        x[i]=x[i]-A[i][j]*x[j]/A[i][i]\n",
    "                    #aqui usamos os valores de x calculados na última iteração\n",
    "                    if j>=i+1:\n",
    "                        x[i]=x[i]-A[i][j]*x0[j]/A[i][i]\n",
    "                    #definimos o vetor 'erro'\n",
    "                    y[j]=np.abs(x[j]-x0[j])\n",
    "        \n",
    "            #checa se alcançamos a precisão desejada\n",
    "            if np.max(y)<e:\n",
    "                return print('\\n',k,'ª iteração:\\nx=',x,'\\nerro=',np.max(y))\n",
    "        \n",
    "            print('\\n',k,'ª iteração:\\nx=',x,'\\nerro=',np.max(y))\n",
    "            #atualizamos o valor do chute começamos de novo\n",
    "            x0=x\n",
    "        return\n",
    "    "
   ]
  },
  {
   "cell_type": "code",
   "execution_count": 28,
   "metadata": {},
   "outputs": [
    {
     "name": "stdout",
     "output_type": "stream",
     "text": [
      "Sendo a matriz aumentada:\n",
      " [[ 0  5 -1  5]\n",
      " [11  0  1 14]\n",
      " [ 1 -1 -1  0]]\n",
      "\n",
      "Trocamos as linhas: 1 e 2 \n",
      " [[11.  0.  1. 14.]\n",
      " [ 0.  5. -1.  5.]\n",
      " [ 1. -1. -1.  0.]]\n",
      "\n",
      "Eliminamos o elemento 3 1 :\n",
      " [[11.          0.          1.         14.        ]\n",
      " [ 0.          5.         -1.          5.        ]\n",
      " [ 0.         -1.         -1.09090909 -1.27272727]]\n",
      "\n",
      "Eliminamos o elemento 3 2 :\n",
      " [[11.          0.          1.         14.        ]\n",
      " [ 0.          5.         -1.          5.        ]\n",
      " [ 0.          0.         -1.29090909 -0.27272727]]\n",
      "\n",
      "A solução é x = [1.25352113 1.04225352 0.21126761]\n"
     ]
    }
   ],
   "source": [
    "#matriz coeficientes\n",
    "A = np.array([[0, 5, -1], [11, 0, 1], [1, -1, -1]])\n",
    "#matriz vetor resultante\n",
    "b = np.array([5, 14, 0])\n",
    "\n",
    "#matriz aumentada\n",
    "Ab = np.hstack([A, b.reshape(-1, 1)])\n",
    "\n",
    "#teste\n",
    "lineq.Egauss(Ab)"
   ]
  },
  {
   "cell_type": "code",
   "execution_count": 32,
   "metadata": {},
   "outputs": [
    {
     "name": "stdout",
     "output_type": "stream",
     "text": [
      "0 ª iteração:\n",
      "x= [0 0 0]\n",
      "\n",
      " 1 ª iteração:\n",
      "x= [1.27272727 1.         0.27272727] \n",
      "erro= 1.2727272727272727\n",
      "\n",
      " 2 ª iteração:\n",
      "x= [1.24793388 1.05454545 0.19338843] \n",
      "erro= 0.07933884297520644\n",
      "\n",
      " 3 ª iteração:\n",
      "x= [1.25514651 1.03867769 0.21646882] \n",
      "erro= 0.023080390683696272\n",
      "\n",
      " 4 ª iteração:\n",
      "x= [1.25304829 1.04329376 0.20975452] \n",
      "erro= 0.006714295471620613\n",
      "\n",
      " 5 ª iteração:\n",
      "x= [1.25365868 1.0419509  0.21170777] \n",
      "erro= 0.001953249591744033\n",
      "\n",
      " 6 ª iteração:\n",
      "x= [1.25348111 1.04234155 0.21113956] \n",
      "erro= 0.0005682180630528499\n"
     ]
    }
   ],
   "source": [
    "#matriz coeficientes\n",
    "A = np.array([[11, 0, 1], [0, 5, -1], [1, -1, -1]])\n",
    "#matriz vetor resultante\n",
    "b=np.array([14, 5, 0])\n",
    "\n",
    "#vetor \"chute\"\n",
    "x0=np.array([0,0,0])\n",
    "\n",
    "#tolerância\n",
    "e=10**(-3)\n",
    "\n",
    "#nº máximo de iterações\n",
    "N=10\n",
    "\n",
    "#lineq.Jacobi(A,b,x0,e,N)\n",
    "lineq.GSeidel(A,b,x0,e,N)"
   ]
  },
  {
   "cell_type": "markdown",
   "metadata": {},
   "source": [
    "# Integração Numérica"
   ]
  },
  {
   "cell_type": "markdown",
   "metadata": {},
   "source": [
    "$\\int{f(x)dx}$"
   ]
  },
  {
   "cell_type": "code",
   "execution_count": 6,
   "metadata": {},
   "outputs": [],
   "source": [
    "class numint:\n",
    "    \n",
    "    #método dos trapézios\n",
    "    def Itrap(y,a,b,n):\n",
    "        #com n intervalos, h é o tamanho de cada um\n",
    "        h=(b-a)/n\n",
    "        x=np.arange(a,b,h)\n",
    "        I=0\n",
    "        for i in range (len(x)-1):\n",
    "            I=I+h*(y(x[i])+y(x[i+1]))/2  \n",
    "        return I\n",
    "    \n",
    "    \n",
    "    #Método de Simpson\n",
    "    def Isimp(y,a,b,n):\n",
    "        h=(b-a)/n\n",
    "        x=np.arange(a,b,h)\n",
    "        I=h*(y(a)+y(b))/3\n",
    "        for i in range (1,n,2):\n",
    "            I=I+4*h*y(x[i])/3\n",
    "        for i in range (2,n,2):\n",
    "            I=I+2*h*y(x[i])/3\n",
    "        return I   \n",
    "    \n",
    "    \n",
    "    #método de monte carlo (precisa refazer)"
   ]
  },
  {
   "cell_type": "code",
   "execution_count": 4,
   "metadata": {},
   "outputs": [
    {
     "name": "stdout",
     "output_type": "stream",
     "text": [
      "Período de galileu - período real\n",
      " 1.9869176531592203 2.066341394412744\n"
     ]
    }
   ],
   "source": [
    "pi= np.math.pi\n",
    "g=10\n",
    "l=1\n",
    "theta_0=pi/4\n",
    "k=np.sin(theta_0/2)\n",
    "\n",
    "#função do pêndulo a ser integrada\n",
    "def pend(x):\n",
    "    return 1/np.sqrt(1-((np.sin(x))*k)**2)\n",
    "\n",
    "#cálculo do período do pêndulo (5000 intervalos na integração)\n",
    "def T(theta):\n",
    "    return 4*np.sqrt(l/g)*numint.Isimp(pend,0,pi/2,5000)\n",
    "\n",
    "#Período galileano (Ângulo inicial pequeno)\n",
    "Tgal=2*pi*np.sqrt(l/g)\n",
    "print('Período de galileu - período real\\n', Tgal, T(theta_0))"
   ]
  },
  {
   "cell_type": "code",
   "execution_count": 12,
   "metadata": {},
   "outputs": [
    {
     "name": "stdout",
     "output_type": "stream",
     "text": [
      "0.1883036280505256\n"
     ]
    }
   ],
   "source": [
    "pi=np.pi\n",
    "theta=pi*23.5/180\n",
    "\n",
    "def ssin(x):\n",
    "    return np.sin(x)*np.sin(2*theta*np.sin(x))\n",
    "\n",
    "I=numint.Isimp(ssin,-pi,0,100)/(2*pi)\n",
    "print(I)\n",
    "    \n",
    "    "
   ]
  },
  {
   "cell_type": "markdown",
   "metadata": {},
   "source": [
    "# Eq. Diferenciais Ordinárias"
   ]
  },
  {
   "cell_type": "markdown",
   "metadata": {},
   "source": [
    "1ª Ordem $y'=f(t,y)$\n",
    "\n",
    "2ª Ordem: $y\"=f(t,y,z)$, com $z=y'$"
   ]
  },
  {
   "cell_type": "code",
   "execution_count": 53,
   "metadata": {},
   "outputs": [],
   "source": [
    "class edo:\n",
    "    \n",
    "    #Euler\n",
    "    def Eul1(f,y0,t0,tf,h):\n",
    "        t_v=np.arange(t0,tf,h)\n",
    "        y_v=np.zeros(len(t_v))\n",
    "        t_v[0]=t0\n",
    "        y_v[0]=y0\n",
    "    \n",
    "        for i in range (1,len(t_v),1):\n",
    "            y_v[i]=y_v[i-1]+h*f(t_v[i-1],y_v[i-1])\n",
    "            t_v[i]=t_v[i-1]+h\n",
    "        return y_v   \n",
    "    \n",
    "    def Eul2(f,y0,z0,t0,tf,h):\n",
    "        t_v=np.arange(t0,tf,h)\n",
    "        y_v=np.zeros(len(t_v))\n",
    "        z_v=np.zeros(len(t_v))\n",
    "        t_v[0]=t0\n",
    "        y_v[0]=y0\n",
    "        z_v[0]=z0\n",
    "    \n",
    "        for i in range (1,len(t_v),1):\n",
    "            y_v[i]=y_v[i-1]+h*z_v[i-1]\n",
    "            z_v[i]=z_v[i-1]+h*f(t_v[i-1],y_v[i-1],z_v[i-1])\n",
    "            t_v[i]=t_v[i-1]+h\n",
    "        return y_v,z_v\n",
    "    \n",
    "    #Runge-Kutta\n",
    "    def RKO1(f,y0,t0,tf,h):\n",
    "        t_v=np.arange(t0,tf,h)\n",
    "        y_v=np.zeros(len(t_v))\n",
    "        t_v[0]=t0\n",
    "        y_v[0]=y0\n",
    "    \n",
    "        for i in range (1,len(t_v),1):\n",
    "            k1=h*f(t_v[i-1],y_v[i-1])\n",
    "            k2=h*f(t_v[i-1]+h/2,y_v[i-1]+k1/2)\n",
    "            k3=h*f(t_v[i-1]+h/2,y_v[i-1]+k2/2)\n",
    "            k4=h*f(t_v[i-1]+h/2,y_v[i-1]+k3/2)\n",
    "            y_v[i]=y_v[i-1]+(k1+2*k2+2*k3+k4)/6\n",
    "            t_v[i]=t_v[i-1]+h\n",
    "    \n",
    "        return y_v\n",
    "    \n",
    "    \n",
    "    def RKO2(f,y0,z0,t0,tf,h):\n",
    "        t_v=np.arange(t0,tf,h)\n",
    "        z_v=np.zeros(len(t_v))\n",
    "        y_v=np.zeros(len(t_v))\n",
    "        t_v[0]=t0\n",
    "        z_v[0]=z0\n",
    "        y_v[0]=y0\n",
    "    \n",
    "        for i in range (1,len(t_v),1):\n",
    "            k1y=h*z_v[i-1]\n",
    "            k1z=h*f(t_v[i-1],y_v[i-1],z_v[i-1])\n",
    "            k2y=h*(z_v[i-1] + k1z/2)\n",
    "            k2z=h*f(t_v[i-1]+h/2,y_v[i-1]+k1y/2,z_v[i-1]+k1z/2)\n",
    "            k3y=h*(z_v[i-1] + k2z/2)\n",
    "            k3z=h*f(t_v[i-1]+h/2,y_v[i-1]+k2y/2,z_v[i-1]+k2z/2)\n",
    "            k4y=h*(z_v[i-1] + k3z/2)\n",
    "            k4z=h*f(t_v[i-1]+h/2,y_v[i-1]+k3y/2,z_v[i-1]+k3z/2)\n",
    "        \n",
    "            y_v[i]=y_v[i-1]+(k1y+2*k2y+2*k3y+k4y)/6\n",
    "            z_v[i]=z_v[i-1]+(k1z+2*k2z+2*k3z+k4z)/6\n",
    "            t_v[i]=t_v[i-1]+h\n",
    "        return y_v,z_v"
   ]
  },
  {
   "cell_type": "code",
   "execution_count": 54,
   "metadata": {},
   "outputs": [
    {
     "name": "stdout",
     "output_type": "stream",
     "text": [
      "analitico: 6 216 108\n",
      "por Euler: 6.0 217.37070851256237 108.88803333927842\n",
      "por RK: 6.0 216.22523448460308 108.1435150791282\n",
      "\n",
      "erro Euler: 0.006345872743344322 0.008222530919244651 \n",
      "erro RK4: 0.0010427522435327687 0.0013288433252611753\n"
     ]
    }
   ],
   "source": [
    "t0=0\n",
    "tf=6.01\n",
    "y0=0\n",
    "z0=0\n",
    "h=0.01\n",
    "\n",
    "def g(t,y,z):\n",
    "    return z-y+t**3-3*t**2+6*t\n",
    "\n",
    "t_v=np.arange(t0,tf,h)\n",
    "\n",
    "y_ve=edo.Eul2(g,y0,z0,t0,tf,h)[0]\n",
    "z_ve=edo.Eul2(g,y0,z0,t0,tf,h)[1]\n",
    "\n",
    "y_vr=edo.RKO2(g,y0,z0,t0,tf,h)[0]\n",
    "z_vr=edo.RKO2(g,y0,z0,t0,tf,h)[1]\n",
    "n=len(t_v)-1\n",
    "\n",
    "print('analitico:',6,6**3,3*6**2)\n",
    "print('por Euler:',t_v[n],y_ve[n],z_ve[n])\n",
    "print('por RK:',t_v[n],y_vr[n],z_vr[n])\n",
    "\n",
    "\n",
    "print('\\nerro Euler:',np.abs(y_ve[n]-6**3)/6**3,np.abs(z_ve[n]-108)/108,'\\nerro RK4:',np.abs(y_vr[n]-6**3)/6**3,np.abs(z_vr[n]-108)/108)"
   ]
  },
  {
   "cell_type": "code",
   "execution_count": 49,
   "metadata": {},
   "outputs": [
    {
     "data": {
      "text/plain": [
       "[<matplotlib.lines.Line2D at 0x25796e82548>]"
      ]
     },
     "execution_count": 49,
     "metadata": {},
     "output_type": "execute_result"
    },
    {
     "data": {
      "image/png": "[encoded data removed]",
      "text/plain": [
       "<Figure size 432x288 with 2 Axes>"
      ]
     },
     "metadata": {
      "needs_background": "light"
     },
     "output_type": "display_data"
    }
   ],
   "source": [
    "#pendulo forçado e amortecido\n",
    "t0=0\n",
    "tf=50\n",
    "y0=2\n",
    "z0=1\n",
    "h=0.01\n",
    "\n",
    "def g(t,y,z):\n",
    "    return -0.1*z-np.sin(y)\n",
    "\n",
    "t_v=np.arange(t0,tf,h)\n",
    "y_v=edo.Eul2(g,y0,z0,t0,tf,h)[0]\n",
    "z_v=edo.Eul2(g,y0,z0,t0,tf,h)[1]\n",
    "\n",
    "pl.subplot(2,2,1)\n",
    "pl.plot(t_v,y_v)\n",
    "pl.plot(t_v,z_v,'r')\n",
    "pl.xlim(t0,tf)\n",
    "pl.xlabel(\"$t$\",fontsize=18)\n",
    "pl.ylabel(\"y,y''\",fontsize=18)\n",
    "\n",
    "pl.subplot(2,2,2)\n",
    "pl.plot(y_v,z_v,'purple')"
   ]
  },
  {
   "cell_type": "code",
   "execution_count": null,
   "metadata": {},
   "outputs": [],
   "source": []
  }
 ],
 "metadata": {
  "kernelspec": {
   "display_name": "Python 3",
   "language": "python",
   "name": "python3"
  },
  "language_info": {
   "codemirror_mode": {
    "name": "ipython",
    "version": 3
   },
   "file_extension": ".py",
   "mimetype": "text/x-python",
   "name": "python",
   "nbconvert_exporter": "python",
   "pygments_lexer": "ipython3",
   "version": "3.7.6"
  }
 },
 "nbformat": 4,
 "nbformat_minor": 2
}
