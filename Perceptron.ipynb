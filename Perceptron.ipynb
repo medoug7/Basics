{
 "cells": [
  {
   "cell_type": "code",
   "execution_count": 1,
   "metadata": {},
   "outputs": [],
   "source": [
    "import numpy as np\n",
    "from matplotlib import pyplot as pl"
   ]
  },
  {
   "cell_type": "markdown",
   "metadata": {},
   "source": [
    "# Perceptron"
   ]
  },
  {
   "cell_type": "markdown",
   "metadata": {},
   "source": [
    "O perceptron é um simples algorítmo de classificação binária, que funciona sempre que os dados são linearmente separáveis.\n",
    "\n",
    "Entramos com $N$ dados de $d$ dimensões\n",
    "\n",
    "Input: $\\vec{x_{i}}=(x_{1},x_{2},...,x_{d})$\n",
    "\n",
    "Output: $y=\\pm 1$"
   ]
  },
  {
   "cell_type": "markdown",
   "metadata": {},
   "source": [
    "# Pasos"
   ]
  },
  {
   "cell_type": "markdown",
   "metadata": {},
   "source": [
    "Definimos o vetor de dados estendido: $ x_{i}=(1,\\vec{x_{i}}) $\n",
    "\n",
    "Os pesos: $ w =(w_{0},w_{1},...,w_{d}) $\n",
    "\n",
    "A Função de ativação: $h=sign(w\\cdot x_{i})$"
   ]
  },
  {
   "cell_type": "markdown",
   "metadata": {},
   "source": [
    "0 - Definimos o conjunto de treinamento $D=[(x_{i},y_{i}),i=1,...,N]$ e escolhemos um peso inicial $w$\n",
    "\n",
    "1 - Procuramos um par em $D$ tal que: $sign(w \\cdot x_{i})\\neq y_{i}$\n",
    "\n",
    "2 - Atualizar o peso: $w=w+{y_{i}}\\cdot{x_{i}}$\n",
    "\n",
    "3 - Repetir até que todos os pares $(x_{i},y_{i})$ obedeçam $sign(w \\cdot x_{i}) = y_{i}$"
   ]
  },
  {
   "cell_type": "code",
   "execution_count": 6,
   "metadata": {},
   "outputs": [],
   "source": [
    "class percep:\n",
    "    \n",
    "    def __init__(self, x,y,w):\n",
    "        # define a dimensão a partir do vetor imput x\n",
    "        self.dim = len(x[0])\n",
    "        # define numero de dados de treino\n",
    "        self.n = len(y)\n",
    "        \n",
    "    \n",
    "    # função de ativação sinal (positivo ou negativo)\n",
    "    def h_sign(self,x,w):\n",
    "        return np.sign(np.dot(w,x))\n",
    "\n",
    "    \n",
    "    # aprendizado\n",
    "    def learn(self,x,y,w):\n",
    "        d = self.n\n",
    "        i = 0\n",
    "        c = 0\n",
    "        \n",
    "        # d é o nª de dados que estão sendo classificados erroneamente\n",
    "        while d != 0:\n",
    "            if i == self.n:\n",
    "                i = 0\n",
    "            \n",
    "            # cria o vetor extendido\n",
    "            X = np.concatenate((1,x[i]),axis=None)\n",
    "            \n",
    "            # segue os passos 1,2,3\n",
    "            if self.h_sign(X,w) != y[i]:\n",
    "                # atualiza os pesos\n",
    "                w = w + y[i]*X\n",
    "                d = len(x)\n",
    "                c = c + 1\n",
    "            else:\n",
    "                d = d - 1\n",
    "                \n",
    "            # se demorar muito para o programa\n",
    "            if c>500:\n",
    "                print(\"Acho que não converge... \\n :(\")\n",
    "                return 0\n",
    "        \n",
    "            i=i+1\n",
    "            \n",
    "        # retorna os pesos que faz funcionar e o nª de iterações que demorou\n",
    "        return w, c\n",
    "    \n",
    "    \n",
    "    #Retorna a classe de um único imput\n",
    "    def testa(self,q,x,y,w):\n",
    "        W=self.learn(x,y,w)[0]\n",
    "        Q=np.concatenate((1,q),axis=None)\n",
    "        \n",
    "        # classifica\n",
    "        if self.h_sign(Q,W)==1:\n",
    "            print(q,'é azul!')\n",
    "        if self.h_sign(Q,W)==-1:\n",
    "            print(q,'é vermelho!')\n",
    "        if self.h_sign(Q,W)==0:\n",
    "            print('Sla tio...')\n",
    "    \n",
    "    \n",
    "    # define a reta (ou plano ou hyperplano dependedo \n",
    "    # das dimensões dos dados que divide os pontos\n",
    "    def reta(self,x,y,w):\n",
    "        W=self.learn(x,y,w)[0]\n",
    "        m=len(W)\n",
    "        \n",
    "        X=np.zeros([self.dim,self.n])\n",
    "        for i in range (self.dim):\n",
    "            X[i]=x[:,i]\n",
    "        \n",
    "        z=np.zeros([self.dim-1,100])\n",
    "        for i in range (self.dim-1):\n",
    "            z[i]=np.linspace(np.min(X[i])-0.5,np.max(X[i])+0.5,100)\n",
    "        \n",
    "        Z=np.zeros(100)\n",
    "        for k in range (100):\n",
    "            Z[k]=-W[0]/W[m-1]\n",
    "            for i in range(self.dim-1):\n",
    "                Z[k]=Z[k]-W[i+1]*z[i][k]/W[m-1]\n",
    "                \n",
    "        return z,Z\n",
    "        \n",
    "    \n",
    "    #plota (funciona só pra 2D)\n",
    "    def desenhar_r(self,x,y,w):\n",
    "        X=x[:,0]\n",
    "        Y=x[:,1]\n",
    "        \n",
    "        reta=self.reta(x,y,w)\n",
    "        z=reta[0][0]\n",
    "        Z=reta[1]\n",
    "        \n",
    "        for i in range (len(X)):\n",
    "            if y[i]==1:\n",
    "                # azul\n",
    "                pl.scatter(X[i],Y[i],c='b')\n",
    "            else:\n",
    "                # vermelho\n",
    "                pl.scatter(X[i],Y[i],c='r')\n",
    "        \n",
    "        pl.plot(z,Z)\n",
    "        pl.ylim(np.min(Y)-0.5,np.max(Y)+0.5)\n",
    "        \n",
    "    \n",
    "    #desenha só os pontos (só 2D)\n",
    "    def pontos(self,x,y):\n",
    "        X=x[:,0]\n",
    "        Y=x[:,1]\n",
    "        \n",
    "        for i in range (len(X)):\n",
    "            if y[i]==1:\n",
    "                # azul\n",
    "                pl.scatter(X[i],Y[i],c='b')\n",
    "            else:\n",
    "                # vermelho\n",
    "                pl.scatter(X[i],Y[i],c='r')\n",
    "        \n",
    "        pl.xlim(np.min(X)-0.5,np.max(X)+0.5)\n",
    "        pl.ylim(np.min(Y)-0.5,np.max(Y)+0.5)"
   ]
  },
  {
   "cell_type": "markdown",
   "metadata": {},
   "source": [
    "# Exemplo 2D"
   ]
  },
  {
   "cell_type": "code",
   "execution_count": 4,
   "metadata": {
    "scrolled": true
   },
   "outputs": [
    {
     "data": {
      "image/png": "[encoded data removed]",
      "text/plain": [
       "<Figure size 432x288 with 1 Axes>"
      ]
     },
     "metadata": {
      "needs_background": "light"
     },
     "output_type": "display_data"
    }
   ],
   "source": [
    "# sendo o imput \n",
    "x = np.array([[0,0.75],[0,1],[0.6,1.2],[0.5,0.94],[0.0,0.6]])\n",
    "# output\n",
    "y = [1,1,1,-1,-1]\n",
    "#print(x,y)\n",
    "\n",
    "# pesos iniciais\n",
    "w = (-1,1,1)\n",
    "\n",
    "cor = percep(x,y,w)\n",
    "cor.pontos(x,y)"
   ]
  },
  {
   "cell_type": "code",
   "execution_count": 5,
   "metadata": {},
   "outputs": [
    {
     "name": "stdout",
     "output_type": "stream",
     "text": [
      "iterações:  141\n"
     ]
    },
    {
     "data": {
      "image/png": "[encoded data removed]",
      "text/plain": [
       "<Figure size 432x288 with 1 Axes>"
      ]
     },
     "metadata": {
      "needs_background": "light"
     },
     "output_type": "display_data"
    }
   ],
   "source": [
    "print(\"iterações: \",cor.learn(x,y,w)[1])\n",
    "cor.desenhar_r(x,y,w)"
   ]
  },
  {
   "cell_type": "code",
   "execution_count": 7,
   "metadata": {},
   "outputs": [
    {
     "name": "stdout",
     "output_type": "stream",
     "text": [
      "(-0.2, 0.5) é azul!\n"
     ]
    }
   ],
   "source": [
    "# testa um outro ponto\n",
    "q = (-0.2,0.5)\n",
    "\n",
    "cor.testa(q,x,y,w)"
   ]
  },
  {
   "cell_type": "code",
   "execution_count": null,
   "metadata": {},
   "outputs": [],
   "source": []
  }
 ],
 "metadata": {
  "kernelspec": {
   "display_name": "Python 3",
   "language": "python",
   "name": "python3"
  },
  "language_info": {
   "codemirror_mode": {
    "name": "ipython",
    "version": 3
   },
   "file_extension": ".py",
   "mimetype": "text/x-python",
   "name": "python",
   "nbconvert_exporter": "python",
   "pygments_lexer": "ipython3",
   "version": "3.7.6"
  }
 },
 "nbformat": 4,
 "nbformat_minor": 2
}
